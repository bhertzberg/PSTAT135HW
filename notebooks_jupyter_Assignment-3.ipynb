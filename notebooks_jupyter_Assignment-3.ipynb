{
 "cells": [
  {
   "cell_type": "markdown",
   "metadata": {},
   "source": [
    "# Assignment 3\n",
    "\n",
    "Repeat the steps in notebook *09-Classification/02-Logistic-Regression-Example.ipynb* but with this new dataset. The data is located in *data/Telco-Customer-Churn.csv*. Report your best model with its AUC on test and train.\n",
    "\n",
    "First part which is data importing and cleaning has been done for you.\n",
    "\n",
    "## Customer Churn\n",
    "\n",
    "Also known as customer attrition, or customer turnover is the loss of clients or customers. Customer churn is a critical metric because it is much less expensive to retain existing customers than it is to acquire new ones. \n",
    "\n",
    "Companies usually make a distinction between voluntary churn and involuntary churn. In most analyses involuntary churn is excluded. \n",
    "\n",
    "Predictive analytics uses machine learning to predict the likelihood of a customer churning. These models will identify a small subgroup of potential customers that are at a higher risk of abandoning the company. This empowers the company to focus on the subset of the customers who are most likely to churn and through customer retention marketing programs stop some of that to happen.\n",
    "\n",
    "\n",
    "## Data\n",
    "\n",
    "**Telco Customer Churn**\n",
    "\n",
    "The data was downloaded from IBM Sample Data Sets (now on Kaggle): https://www.kaggle.com/datasets/blastchar/telco-customer-churn\n",
    "\n",
    "Each row represents a customer, each column contains customer's attributes described as below:\n",
    "\n",
    "* **customerID**: Customer ID\n",
    "* **gender**: Customer gender (female, male)\n",
    "* **SeniorCitizen**: Whether the customer is a senior citizen or not (1, 0)\n",
    "* **Partner**: Whether the customer has a partner or not (Yes, No)\n",
    "* **Dependents**: Whether the customer has dependents or not (Yes, No)\n",
    "* **tenure**: Number of months the customer has stayed with the company\n",
    "* **PhoneService**: Whether the customer has a phone service or not (Yes, No)\n",
    "* **MultipleLines**: Whether the customer has multiple lines or not (Yes, No, No phone service)\n",
    "* **InternetService**: Customer's internet service provider (DSL, Fiber optic, No)\n",
    "* **OnlineSecurity**: Whether the customer has online security or not (Yes, No, No internet service)\n",
    "* **OnlineBackup**: Whether the customer has online backup or not (Yes, No, No internet service)\n",
    "* **DeviceProtection**: Whether the customer has device protection or not (Yes, No, No internet service)\n",
    "* **TechSupport**: Whether the customer has tech support or not (Yes, No, No internet service)\n",
    "* **StreamingTV**: Whether the customer has streaming TV or not (Yes, No, No internet service)\n",
    "* **StreamingMovies**: Whether the customer has streaming movies or not (Yes, No, No internet service)\n",
    "* **Contract**: The contract term of the customer (Month-to-month, One year, Two year)\n",
    "* **PaperlessBilling**: Whether the customer has paperless billing or not (Yes, No)\n",
    "* **PaymentMethod**: The customer's payment method (Electronic check, Mailed check, Bank transfer (automatic), Credit card (automatic))\n",
    "* **MonthlyCharges**: The amount charged to the customer monthly\n",
    "* **TotalCharges**: The total amount charged to the customer\n",
    "* **Churn**: Whether the customer churned or not (Yes or No)\n",
    "\n",
    "The data set includes information about:\n",
    "\n",
    "* Customers who left - the column is called `Churn`\n",
    "* Services that each customer has signed up for - phone, multiple lines, internet, online security, online backup, device protection, tech support, and streaming TV and movies\n",
    "* Customer account information - how long they've been a customer, contract, payment method, paperless billing, monthly charges, and total charges\n",
    "* Demographic info about customers - gender, age range, and if they have partners and dependents\n",
    "\n",
    "Importing libraries:"
   ]
  },
  {
   "cell_type": "code",
   "execution_count": 1,
   "metadata": {},
   "outputs": [
    {
     "name": "stdout",
     "output_type": "stream",
     "text": [
      "gs://pstat135-bh/notebooks/jupyter/data/\n"
     ]
    }
   ],
   "source": [
    "%matplotlib inline\n",
    "import matplotlib.pyplot as plt\n",
    "import pandas as pd\n",
    "import numpy as np\n",
    "from pyspark.sql.functions import *\n",
    "\n",
    "# the following line gets the bucket name attached to our cluster\n",
    "bucket = spark._jsc.hadoopConfiguration().get(\"fs.gs.system.bucket\")\n",
    "\n",
    "# specifying the path to our bucket where the data is located (no need to edit this path anymore)\n",
    "data = \"gs://\" + bucket + \"/notebooks/jupyter/data/\"\n",
    "print(data)"
   ]
  },
  {
   "cell_type": "markdown",
   "metadata": {},
   "source": [
    "Get the data from here: https://github.com/UCSB-PSTAT-135-235/Winter2023/blob/public/01-Introduction/data/Telco-Customer-Churn.csv\n",
    "\n",
    "Importing data:"
   ]
  },
  {
   "cell_type": "code",
   "execution_count": 2,
   "metadata": {},
   "outputs": [
    {
     "name": "stderr",
     "output_type": "stream",
     "text": [
      "                                                                                \r"
     ]
    },
    {
     "name": "stdout",
     "output_type": "stream",
     "text": [
      "+------+-------------+-------+----------+------+------------+----------------+---------------+--------------+------------+----------------+-----------+-----------+---------------+--------------+----------------+--------------------+--------------+------------+-----+\n",
      "|gender|SeniorCitizen|Partner|Dependents|tenure|PhoneService|   MultipleLines|InternetService|OnlineSecurity|OnlineBackup|DeviceProtection|TechSupport|StreamingTV|StreamingMovies|      Contract|PaperlessBilling|       PaymentMethod|MonthlyCharges|TotalCharges|Churn|\n",
      "+------+-------------+-------+----------+------+------------+----------------+---------------+--------------+------------+----------------+-----------+-----------+---------------+--------------+----------------+--------------------+--------------+------------+-----+\n",
      "|Female|            0|    Yes|        No|     1|          No|No phone service|            DSL|            No|         Yes|              No|         No|         No|             No|Month-to-month|             Yes|    Electronic check|         29.85|       29.85|   No|\n",
      "|  Male|            0|     No|        No|    34|         Yes|              No|            DSL|           Yes|          No|             Yes|         No|         No|             No|      One year|              No|        Mailed check|         56.95|      1889.5|   No|\n",
      "|  Male|            0|     No|        No|     2|         Yes|              No|            DSL|           Yes|         Yes|              No|         No|         No|             No|Month-to-month|             Yes|        Mailed check|         53.85|      108.15|  Yes|\n",
      "|  Male|            0|     No|        No|    45|          No|No phone service|            DSL|           Yes|          No|             Yes|        Yes|         No|             No|      One year|              No|Bank transfer (au...|          42.3|     1840.75|   No|\n",
      "|Female|            0|     No|        No|     2|         Yes|              No|    Fiber optic|            No|          No|              No|         No|         No|             No|Month-to-month|             Yes|    Electronic check|          70.7|      151.65|  Yes|\n",
      "+------+-------------+-------+----------+------+------------+----------------+---------------+--------------+------------+----------------+-----------+-----------+---------------+--------------+----------------+--------------------+--------------+------------+-----+\n",
      "only showing top 5 rows\n",
      "\n",
      "root\n",
      " |-- gender: string (nullable = true)\n",
      " |-- SeniorCitizen: integer (nullable = true)\n",
      " |-- Partner: string (nullable = true)\n",
      " |-- Dependents: string (nullable = true)\n",
      " |-- tenure: integer (nullable = true)\n",
      " |-- PhoneService: string (nullable = true)\n",
      " |-- MultipleLines: string (nullable = true)\n",
      " |-- InternetService: string (nullable = true)\n",
      " |-- OnlineSecurity: string (nullable = true)\n",
      " |-- OnlineBackup: string (nullable = true)\n",
      " |-- DeviceProtection: string (nullable = true)\n",
      " |-- TechSupport: string (nullable = true)\n",
      " |-- StreamingTV: string (nullable = true)\n",
      " |-- StreamingMovies: string (nullable = true)\n",
      " |-- Contract: string (nullable = true)\n",
      " |-- PaperlessBilling: string (nullable = true)\n",
      " |-- PaymentMethod: string (nullable = true)\n",
      " |-- MonthlyCharges: double (nullable = true)\n",
      " |-- TotalCharges: string (nullable = true)\n",
      " |-- Churn: string (nullable = true)\n",
      "\n",
      "This datasets consists of 7043 rows.\n"
     ]
    }
   ],
   "source": [
    "df = spark.read.format(\"csv\")\\\n",
    "  .option(\"header\", \"true\")\\\n",
    "  .option(\"inferschema\", True)\\\n",
    "  .load(data + \"Telco-Customer-Churn.csv\")\\\n",
    "  .coalesce(5)\n",
    "\n",
    "df = df.drop('customerID')  # Dropping customerID\n",
    "df.cache()\n",
    "df.show(5)\n",
    "df.printSchema()\n",
    "print(\"This datasets consists of {} rows.\".format(df.count()))\n",
    "df = df.withColumn(\"TotalCharges\",df.TotalCharges.cast('double'))\n",
    "df = df.withColumn(\"SeniorCitizen\",df.SeniorCitizen.cast('string'))\n"
   ]
  },
  {
   "cell_type": "markdown",
   "metadata": {},
   "source": [
    "Checking for missing values:"
   ]
  },
  {
   "cell_type": "code",
   "execution_count": 3,
   "metadata": {},
   "outputs": [
    {
     "data": {
      "text/plain": [
       "[('gender', 0),\n",
       " ('SeniorCitizen', 0),\n",
       " ('Partner', 0),\n",
       " ('Dependents', 0),\n",
       " ('tenure', 0),\n",
       " ('PhoneService', 0),\n",
       " ('MultipleLines', 0),\n",
       " ('InternetService', 0),\n",
       " ('OnlineSecurity', 0),\n",
       " ('OnlineBackup', 0),\n",
       " ('DeviceProtection', 0),\n",
       " ('TechSupport', 0),\n",
       " ('StreamingTV', 0),\n",
       " ('StreamingMovies', 0),\n",
       " ('Contract', 0),\n",
       " ('PaperlessBilling', 0),\n",
       " ('PaymentMethod', 0),\n",
       " ('MonthlyCharges', 0),\n",
       " ('TotalCharges', 11),\n",
       " ('Churn', 0)]"
      ]
     },
     "execution_count": 3,
     "metadata": {},
     "output_type": "execute_result"
    }
   ],
   "source": [
    "[(c, df.where(col(c).isNull()).count()) for c in df.columns]\n"
   ]
  },
  {
   "cell_type": "markdown",
   "metadata": {},
   "source": [
    "There are 11 missing values in `TotalCharges`. Let's fill them with 0 since they seem to be new customers:"
   ]
  },
  {
   "cell_type": "code",
   "execution_count": 4,
   "metadata": {},
   "outputs": [],
   "source": [
    "df = df.fillna(0)"
   ]
  },
  {
   "cell_type": "markdown",
   "metadata": {},
   "source": [
    "Define an RFormula that uses all of the columns as features and call it `supervised`:"
   ]
  },
  {
   "cell_type": "code",
   "execution_count": 5,
   "metadata": {},
   "outputs": [],
   "source": [
    "from pyspark.ml.feature import RFormula\n",
    "\n",
    "supervised = RFormula(formula=\"Churn ~ .\")\n"
   ]
  },
  {
   "cell_type": "markdown",
   "metadata": {},
   "source": [
    "Fit the RFormula transformer and call it `fittedRF`:"
   ]
  },
  {
   "cell_type": "code",
   "execution_count": 6,
   "metadata": {},
   "outputs": [],
   "source": [
    "fittedRF = supervised.fit(df)"
   ]
  },
  {
   "cell_type": "markdown",
   "metadata": {},
   "source": [
    "Using `fittedRF` transform our `df` DataFrame. Call this `preparedDF`:"
   ]
  },
  {
   "cell_type": "code",
   "execution_count": 7,
   "metadata": {},
   "outputs": [],
   "source": [
    "preparedDF = fittedRF.transform(df)"
   ]
  },
  {
   "cell_type": "markdown",
   "metadata": {},
   "source": [
    "Print the first couple of rows of `preparedDF`, with the truncate option off:"
   ]
  },
  {
   "cell_type": "code",
   "execution_count": 8,
   "metadata": {},
   "outputs": [
    {
     "name": "stderr",
     "output_type": "stream",
     "text": [
      "23/03/09 03:05:39 WARN org.apache.spark.sql.catalyst.util.package: Truncated the string representation of a plan since it was too large. This behavior can be adjusted by setting 'spark.sql.debug.maxToStringFields'.\n"
     ]
    },
    {
     "name": "stdout",
     "output_type": "stream",
     "text": [
      "+------+-------------+-------+----------+------+------------+----------------+---------------+--------------+------------+----------------+-----------+-----------+---------------+--------------+----------------+----------------+--------------+------------+-----+-----------------------------------------------------------------------------------------------------------------------------+-----+\n",
      "|gender|SeniorCitizen|Partner|Dependents|tenure|PhoneService|MultipleLines   |InternetService|OnlineSecurity|OnlineBackup|DeviceProtection|TechSupport|StreamingTV|StreamingMovies|Contract      |PaperlessBilling|PaymentMethod   |MonthlyCharges|TotalCharges|Churn|features                                                                                                                     |label|\n",
      "+------+-------------+-------+----------+------+------------+----------------+---------------+--------------+------------+----------------+-----------+-----------+---------------+--------------+----------------+----------------+--------------+------------+-----+-----------------------------------------------------------------------------------------------------------------------------+-----+\n",
      "|Female|0            |Yes    |No        |1     |No          |No phone service|DSL            |No            |Yes         |No              |No         |No         |No             |Month-to-month|Yes             |Electronic check|29.85         |29.85       |No   |(30,[1,3,4,9,10,13,14,16,18,20,22,24,25,28,29],[1.0,1.0,1.0,1.0,1.0,1.0,1.0,1.0,1.0,1.0,1.0,1.0,1.0,29.85,29.85])            |0.0  |\n",
      "|Male  |0            |No     |No        |34    |Yes         |No              |DSL            |Yes           |No          |Yes             |No         |No         |No             |One year      |No              |Mailed check    |56.95         |1889.5      |No   |(30,[0,1,2,3,4,5,6,9,11,12,15,16,18,20,26,28,29],[1.0,1.0,1.0,1.0,34.0,1.0,1.0,1.0,1.0,1.0,1.0,1.0,1.0,1.0,1.0,56.95,1889.5])|0.0  |\n",
      "+------+-------------+-------+----------+------+------------+----------------+---------------+--------------+------------+----------------+-----------+-----------+---------------+--------------+----------------+----------------+--------------+------------+-----+-----------------------------------------------------------------------------------------------------------------------------+-----+\n",
      "only showing top 2 rows\n",
      "\n"
     ]
    }
   ],
   "source": [
    "preparedDF.show(2, truncate = False)\n"
   ]
  },
  {
   "cell_type": "markdown",
   "metadata": {},
   "source": [
    "Below we will retrieve the name of the columns used to make our feature vector and store them in a pandas DataFrame:"
   ]
  },
  {
   "cell_type": "code",
   "execution_count": 9,
   "metadata": {},
   "outputs": [
    {
     "data": {
      "text/html": [
       "<div>\n",
       "<style scoped>\n",
       "    .dataframe tbody tr th:only-of-type {\n",
       "        vertical-align: middle;\n",
       "    }\n",
       "\n",
       "    .dataframe tbody tr th {\n",
       "        vertical-align: top;\n",
       "    }\n",
       "\n",
       "    .dataframe thead th {\n",
       "        text-align: right;\n",
       "    }\n",
       "</style>\n",
       "<table border=\"1\" class=\"dataframe\">\n",
       "  <thead>\n",
       "    <tr style=\"text-align: right;\">\n",
       "      <th></th>\n",
       "      <th>idx</th>\n",
       "      <th>name</th>\n",
       "    </tr>\n",
       "  </thead>\n",
       "  <tbody>\n",
       "    <tr>\n",
       "      <th>0</th>\n",
       "      <td>0</td>\n",
       "      <td>gender_Male</td>\n",
       "    </tr>\n",
       "    <tr>\n",
       "      <th>1</th>\n",
       "      <td>1</td>\n",
       "      <td>SeniorCitizen_0</td>\n",
       "    </tr>\n",
       "    <tr>\n",
       "      <th>2</th>\n",
       "      <td>2</td>\n",
       "      <td>Partner_No</td>\n",
       "    </tr>\n",
       "    <tr>\n",
       "      <th>3</th>\n",
       "      <td>3</td>\n",
       "      <td>Dependents_No</td>\n",
       "    </tr>\n",
       "    <tr>\n",
       "      <th>27</th>\n",
       "      <td>4</td>\n",
       "      <td>tenure</td>\n",
       "    </tr>\n",
       "    <tr>\n",
       "      <th>4</th>\n",
       "      <td>5</td>\n",
       "      <td>PhoneService_Yes</td>\n",
       "    </tr>\n",
       "    <tr>\n",
       "      <th>5</th>\n",
       "      <td>6</td>\n",
       "      <td>MultipleLines_No</td>\n",
       "    </tr>\n",
       "    <tr>\n",
       "      <th>6</th>\n",
       "      <td>7</td>\n",
       "      <td>MultipleLines_Yes</td>\n",
       "    </tr>\n",
       "    <tr>\n",
       "      <th>7</th>\n",
       "      <td>8</td>\n",
       "      <td>InternetService_Fiber optic</td>\n",
       "    </tr>\n",
       "    <tr>\n",
       "      <th>8</th>\n",
       "      <td>9</td>\n",
       "      <td>InternetService_DSL</td>\n",
       "    </tr>\n",
       "    <tr>\n",
       "      <th>9</th>\n",
       "      <td>10</td>\n",
       "      <td>OnlineSecurity_No</td>\n",
       "    </tr>\n",
       "    <tr>\n",
       "      <th>10</th>\n",
       "      <td>11</td>\n",
       "      <td>OnlineSecurity_Yes</td>\n",
       "    </tr>\n",
       "    <tr>\n",
       "      <th>11</th>\n",
       "      <td>12</td>\n",
       "      <td>OnlineBackup_No</td>\n",
       "    </tr>\n",
       "    <tr>\n",
       "      <th>12</th>\n",
       "      <td>13</td>\n",
       "      <td>OnlineBackup_Yes</td>\n",
       "    </tr>\n",
       "    <tr>\n",
       "      <th>13</th>\n",
       "      <td>14</td>\n",
       "      <td>DeviceProtection_No</td>\n",
       "    </tr>\n",
       "    <tr>\n",
       "      <th>14</th>\n",
       "      <td>15</td>\n",
       "      <td>DeviceProtection_Yes</td>\n",
       "    </tr>\n",
       "    <tr>\n",
       "      <th>15</th>\n",
       "      <td>16</td>\n",
       "      <td>TechSupport_No</td>\n",
       "    </tr>\n",
       "    <tr>\n",
       "      <th>16</th>\n",
       "      <td>17</td>\n",
       "      <td>TechSupport_Yes</td>\n",
       "    </tr>\n",
       "    <tr>\n",
       "      <th>17</th>\n",
       "      <td>18</td>\n",
       "      <td>StreamingTV_No</td>\n",
       "    </tr>\n",
       "    <tr>\n",
       "      <th>18</th>\n",
       "      <td>19</td>\n",
       "      <td>StreamingTV_Yes</td>\n",
       "    </tr>\n",
       "    <tr>\n",
       "      <th>19</th>\n",
       "      <td>20</td>\n",
       "      <td>StreamingMovies_No</td>\n",
       "    </tr>\n",
       "    <tr>\n",
       "      <th>20</th>\n",
       "      <td>21</td>\n",
       "      <td>StreamingMovies_Yes</td>\n",
       "    </tr>\n",
       "    <tr>\n",
       "      <th>21</th>\n",
       "      <td>22</td>\n",
       "      <td>Contract_Month-to-month</td>\n",
       "    </tr>\n",
       "    <tr>\n",
       "      <th>22</th>\n",
       "      <td>23</td>\n",
       "      <td>Contract_Two year</td>\n",
       "    </tr>\n",
       "    <tr>\n",
       "      <th>23</th>\n",
       "      <td>24</td>\n",
       "      <td>PaperlessBilling_Yes</td>\n",
       "    </tr>\n",
       "    <tr>\n",
       "      <th>24</th>\n",
       "      <td>25</td>\n",
       "      <td>PaymentMethod_Electronic check</td>\n",
       "    </tr>\n",
       "    <tr>\n",
       "      <th>25</th>\n",
       "      <td>26</td>\n",
       "      <td>PaymentMethod_Mailed check</td>\n",
       "    </tr>\n",
       "    <tr>\n",
       "      <th>26</th>\n",
       "      <td>27</td>\n",
       "      <td>PaymentMethod_Bank transfer (automatic)</td>\n",
       "    </tr>\n",
       "    <tr>\n",
       "      <th>28</th>\n",
       "      <td>28</td>\n",
       "      <td>MonthlyCharges</td>\n",
       "    </tr>\n",
       "    <tr>\n",
       "      <th>29</th>\n",
       "      <td>29</td>\n",
       "      <td>TotalCharges</td>\n",
       "    </tr>\n",
       "  </tbody>\n",
       "</table>\n",
       "</div>"
      ],
      "text/plain": [
       "    idx                                     name\n",
       "0     0                              gender_Male\n",
       "1     1                          SeniorCitizen_0\n",
       "2     2                               Partner_No\n",
       "3     3                            Dependents_No\n",
       "27    4                                   tenure\n",
       "4     5                         PhoneService_Yes\n",
       "5     6                         MultipleLines_No\n",
       "6     7                        MultipleLines_Yes\n",
       "7     8              InternetService_Fiber optic\n",
       "8     9                      InternetService_DSL\n",
       "9    10                        OnlineSecurity_No\n",
       "10   11                       OnlineSecurity_Yes\n",
       "11   12                          OnlineBackup_No\n",
       "12   13                         OnlineBackup_Yes\n",
       "13   14                      DeviceProtection_No\n",
       "14   15                     DeviceProtection_Yes\n",
       "15   16                           TechSupport_No\n",
       "16   17                          TechSupport_Yes\n",
       "17   18                           StreamingTV_No\n",
       "18   19                          StreamingTV_Yes\n",
       "19   20                       StreamingMovies_No\n",
       "20   21                      StreamingMovies_Yes\n",
       "21   22                  Contract_Month-to-month\n",
       "22   23                        Contract_Two year\n",
       "23   24                     PaperlessBilling_Yes\n",
       "24   25           PaymentMethod_Electronic check\n",
       "25   26               PaymentMethod_Mailed check\n",
       "26   27  PaymentMethod_Bank transfer (automatic)\n",
       "28   28                           MonthlyCharges\n",
       "29   29                             TotalCharges"
      ]
     },
     "execution_count": 9,
     "metadata": {},
     "output_type": "execute_result"
    }
   ],
   "source": [
    "colsDF = pd.DataFrame(preparedDF.schema[\"features\"].metadata[\"ml_attr\"] \n",
    "[\"attrs\"][\"binary\"]+preparedDF.schema[\"features\"].metadata[\"ml_attr\"][\"attrs\"][\"numeric\"]).sort_values(\"idx\")\n",
    "\n",
    "colsDF"
   ]
  },
  {
   "cell_type": "markdown",
   "metadata": {},
   "source": [
    "Split the transformed data into `train` and `test`. Use a 30% split and a `seed`."
   ]
  },
  {
   "cell_type": "code",
   "execution_count": 10,
   "metadata": {},
   "outputs": [],
   "source": [
    "train, test = preparedDF.randomSplit([0.7, 0.3], seed = 619)"
   ]
  },
  {
   "cell_type": "markdown",
   "metadata": {},
   "source": [
    "Instantiate an instance of `LogisticRegression`. Call it `lr`:"
   ]
  },
  {
   "cell_type": "code",
   "execution_count": 11,
   "metadata": {},
   "outputs": [],
   "source": [
    "from pyspark.ml.classification import LogisticRegression\n",
    "lr = LogisticRegression(labelCol=\"label\",featuresCol=\"features\")"
   ]
  },
  {
   "cell_type": "markdown",
   "metadata": {},
   "source": [
    "Print the parameters of `lr` to check the default values used. You can always come back to the cell above and change the default values:"
   ]
  },
  {
   "cell_type": "code",
   "execution_count": 12,
   "metadata": {},
   "outputs": [
    {
     "name": "stdout",
     "output_type": "stream",
     "text": [
      "aggregationDepth: suggested depth for treeAggregate (>= 2). (default: 2)\n",
      "elasticNetParam: the ElasticNet mixing parameter, in range [0, 1]. For alpha = 0, the penalty is an L2 penalty. For alpha = 1, it is an L1 penalty. (default: 0.0)\n",
      "family: The name of family which is a description of the label distribution to be used in the model. Supported options: auto, binomial, multinomial (default: auto)\n",
      "featuresCol: features column name. (default: features, current: features)\n",
      "fitIntercept: whether to fit an intercept term. (default: True)\n",
      "labelCol: label column name. (default: label, current: label)\n",
      "lowerBoundsOnCoefficients: The lower bounds on coefficients if fitting under bound constrained optimization. The bound matrix must be compatible with the shape (1, number of features) for binomial regression, or (number of classes, number of features) for multinomial regression. (undefined)\n",
      "lowerBoundsOnIntercepts: The lower bounds on intercepts if fitting under bound constrained optimization. The bounds vector size must beequal with 1 for binomial regression, or the number oflasses for multinomial regression. (undefined)\n",
      "maxBlockSizeInMB: maximum memory in MB for stacking input data into blocks. Data is stacked within partitions. If more than remaining data size in a partition then it is adjusted to the data size. Default 0.0 represents choosing optimal value, depends on specific algorithm. Must be >= 0. (default: 0.0)\n",
      "maxIter: max number of iterations (>= 0). (default: 100)\n",
      "predictionCol: prediction column name. (default: prediction)\n",
      "probabilityCol: Column name for predicted class conditional probabilities. Note: Not all models output well-calibrated probability estimates! These probabilities should be treated as confidences, not precise probabilities. (default: probability)\n",
      "rawPredictionCol: raw prediction (a.k.a. confidence) column name. (default: rawPrediction)\n",
      "regParam: regularization parameter (>= 0). (default: 0.0)\n",
      "standardization: whether to standardize the training features before fitting the model. (default: True)\n",
      "threshold: Threshold in binary classification prediction, in range [0, 1]. If threshold and thresholds are both set, they must match.e.g. if threshold is p, then thresholds must be equal to [1-p, p]. (default: 0.5)\n",
      "thresholds: Thresholds in multi-class classification to adjust the probability of predicting each class. Array must have length equal to the number of classes, with values > 0, excepting that at most one value may be 0. The class with largest value p/t is predicted, where p is the original probability of that class and t is the class's threshold. (undefined)\n",
      "tol: the convergence tolerance for iterative algorithms (>= 0). (default: 1e-06)\n",
      "upperBoundsOnCoefficients: The upper bounds on coefficients if fitting under bound constrained optimization. The bound matrix must be compatible with the shape (1, number of features) for binomial regression, or (number of classes, number of features) for multinomial regression. (undefined)\n",
      "upperBoundsOnIntercepts: The upper bounds on intercepts if fitting under bound constrained optimization. The bound vector size must be equal with 1 for binomial regression, or the number of classes for multinomial regression. (undefined)\n",
      "weightCol: weight column name. If this is not set or empty, we treat all instance weights as 1.0. (undefined)\n"
     ]
    }
   ],
   "source": [
    "print(lr.explainParams())"
   ]
  },
  {
   "cell_type": "markdown",
   "metadata": {},
   "source": [
    "Fit the model on `train` and call it `lrModel`:"
   ]
  },
  {
   "cell_type": "code",
   "execution_count": 13,
   "metadata": {},
   "outputs": [
    {
     "name": "stderr",
     "output_type": "stream",
     "text": [
      "23/03/09 03:05:44 WARN com.github.fommil.netlib.BLAS: Failed to load implementation from: com.github.fommil.netlib.NativeSystemBLAS\n",
      "23/03/09 03:05:44 WARN com.github.fommil.netlib.BLAS: Failed to load implementation from: com.github.fommil.netlib.NativeRefBLAS\n",
      "                                                                                \r"
     ]
    }
   ],
   "source": [
    "lrModel = lr.fit(train)"
   ]
  },
  {
   "cell_type": "markdown",
   "metadata": {},
   "source": [
    "Below we plot the coefficients of our model in a sorted fashion:"
   ]
  },
  {
   "cell_type": "code",
   "execution_count": 14,
   "metadata": {},
   "outputs": [
    {
     "name": "stdout",
     "output_type": "stream",
     "text": [
      "[-0.006317193085420403,-0.22391539761895196,-0.11150004711828043,0.14838303743599532,-0.05032550719237235,0.6625393598964171,-0.12424435399940957,0.36025273386968165,1.7713347474814123,-0.6238823325888405,0.6770067753475344,0.6195900372916535,0.5937535122336697,0.6570629009164786,0.5258667927640625,0.7347744106555666,0.6372243560704174,0.6652644266925237,0.19469014069090027,1.048151635946414,0.1976691876996898,1.041581517044071,0.6641001433758386,-0.7713153683769945,0.3691188639476932,0.4460302236410799,0.14979335556202233,0.18977358612827142,-0.060505701261060224,0.00021745358605826175]\n"
     ]
    }
   ],
   "source": [
    "print(lrModel.coefficients)"
   ]
  },
  {
   "cell_type": "code",
   "execution_count": 15,
   "metadata": {},
   "outputs": [
    {
     "name": "stdout",
     "output_type": "stream",
     "text": [
      "-1.3066519609336011\n"
     ]
    }
   ],
   "source": [
    "print(lrModel.intercept)"
   ]
  },
  {
   "cell_type": "markdown",
   "metadata": {},
   "source": [
    "### Feature importance\n",
    "\n",
    "We already retrieved the name of the features. Let's join it with the coefficients to identify the ones with bigger absolute value:"
   ]
  },
  {
   "cell_type": "code",
   "execution_count": 16,
   "metadata": {},
   "outputs": [
    {
     "data": {
      "text/html": [
       "<div>\n",
       "<style scoped>\n",
       "    .dataframe tbody tr th:only-of-type {\n",
       "        vertical-align: middle;\n",
       "    }\n",
       "\n",
       "    .dataframe tbody tr th {\n",
       "        vertical-align: top;\n",
       "    }\n",
       "\n",
       "    .dataframe thead th {\n",
       "        text-align: right;\n",
       "    }\n",
       "</style>\n",
       "<table border=\"1\" class=\"dataframe\">\n",
       "  <thead>\n",
       "    <tr style=\"text-align: right;\">\n",
       "      <th></th>\n",
       "      <th>idx</th>\n",
       "      <th>name</th>\n",
       "      <th>coefficient</th>\n",
       "    </tr>\n",
       "  </thead>\n",
       "  <tbody>\n",
       "    <tr>\n",
       "      <th>8</th>\n",
       "      <td>9</td>\n",
       "      <td>InternetService_DSL</td>\n",
       "      <td>1.771335</td>\n",
       "    </tr>\n",
       "    <tr>\n",
       "      <th>19</th>\n",
       "      <td>20</td>\n",
       "      <td>StreamingMovies_No</td>\n",
       "      <td>1.048152</td>\n",
       "    </tr>\n",
       "    <tr>\n",
       "      <th>21</th>\n",
       "      <td>22</td>\n",
       "      <td>Contract_Month-to-month</td>\n",
       "      <td>1.041582</td>\n",
       "    </tr>\n",
       "    <tr>\n",
       "      <th>23</th>\n",
       "      <td>24</td>\n",
       "      <td>PaperlessBilling_Yes</td>\n",
       "      <td>-0.771315</td>\n",
       "    </tr>\n",
       "    <tr>\n",
       "      <th>15</th>\n",
       "      <td>16</td>\n",
       "      <td>TechSupport_No</td>\n",
       "      <td>0.734774</td>\n",
       "    </tr>\n",
       "    <tr>\n",
       "      <th>10</th>\n",
       "      <td>11</td>\n",
       "      <td>OnlineSecurity_Yes</td>\n",
       "      <td>0.677007</td>\n",
       "    </tr>\n",
       "    <tr>\n",
       "      <th>17</th>\n",
       "      <td>18</td>\n",
       "      <td>StreamingTV_No</td>\n",
       "      <td>0.665264</td>\n",
       "    </tr>\n",
       "    <tr>\n",
       "      <th>22</th>\n",
       "      <td>23</td>\n",
       "      <td>Contract_Two year</td>\n",
       "      <td>0.664100</td>\n",
       "    </tr>\n",
       "    <tr>\n",
       "      <th>5</th>\n",
       "      <td>6</td>\n",
       "      <td>MultipleLines_No</td>\n",
       "      <td>0.662539</td>\n",
       "    </tr>\n",
       "    <tr>\n",
       "      <th>13</th>\n",
       "      <td>14</td>\n",
       "      <td>DeviceProtection_No</td>\n",
       "      <td>0.657063</td>\n",
       "    </tr>\n",
       "    <tr>\n",
       "      <th>16</th>\n",
       "      <td>17</td>\n",
       "      <td>TechSupport_Yes</td>\n",
       "      <td>0.637224</td>\n",
       "    </tr>\n",
       "    <tr>\n",
       "      <th>9</th>\n",
       "      <td>10</td>\n",
       "      <td>OnlineSecurity_No</td>\n",
       "      <td>-0.623882</td>\n",
       "    </tr>\n",
       "    <tr>\n",
       "      <th>11</th>\n",
       "      <td>12</td>\n",
       "      <td>OnlineBackup_No</td>\n",
       "      <td>0.619590</td>\n",
       "    </tr>\n",
       "    <tr>\n",
       "      <th>12</th>\n",
       "      <td>13</td>\n",
       "      <td>OnlineBackup_Yes</td>\n",
       "      <td>0.593754</td>\n",
       "    </tr>\n",
       "    <tr>\n",
       "      <th>14</th>\n",
       "      <td>15</td>\n",
       "      <td>DeviceProtection_Yes</td>\n",
       "      <td>0.525867</td>\n",
       "    </tr>\n",
       "    <tr>\n",
       "      <th>25</th>\n",
       "      <td>26</td>\n",
       "      <td>PaymentMethod_Mailed check</td>\n",
       "      <td>0.446030</td>\n",
       "    </tr>\n",
       "    <tr>\n",
       "      <th>24</th>\n",
       "      <td>25</td>\n",
       "      <td>PaymentMethod_Electronic check</td>\n",
       "      <td>0.369119</td>\n",
       "    </tr>\n",
       "    <tr>\n",
       "      <th>7</th>\n",
       "      <td>8</td>\n",
       "      <td>InternetService_Fiber optic</td>\n",
       "      <td>0.360253</td>\n",
       "    </tr>\n",
       "    <tr>\n",
       "      <th>1</th>\n",
       "      <td>1</td>\n",
       "      <td>SeniorCitizen_0</td>\n",
       "      <td>-0.223915</td>\n",
       "    </tr>\n",
       "    <tr>\n",
       "      <th>20</th>\n",
       "      <td>21</td>\n",
       "      <td>StreamingMovies_Yes</td>\n",
       "      <td>0.197669</td>\n",
       "    </tr>\n",
       "    <tr>\n",
       "      <th>18</th>\n",
       "      <td>19</td>\n",
       "      <td>StreamingTV_Yes</td>\n",
       "      <td>0.194690</td>\n",
       "    </tr>\n",
       "    <tr>\n",
       "      <th>27</th>\n",
       "      <td>4</td>\n",
       "      <td>tenure</td>\n",
       "      <td>0.189774</td>\n",
       "    </tr>\n",
       "    <tr>\n",
       "      <th>26</th>\n",
       "      <td>27</td>\n",
       "      <td>PaymentMethod_Bank transfer (automatic)</td>\n",
       "      <td>0.149793</td>\n",
       "    </tr>\n",
       "    <tr>\n",
       "      <th>3</th>\n",
       "      <td>3</td>\n",
       "      <td>Dependents_No</td>\n",
       "      <td>0.148383</td>\n",
       "    </tr>\n",
       "    <tr>\n",
       "      <th>6</th>\n",
       "      <td>7</td>\n",
       "      <td>MultipleLines_Yes</td>\n",
       "      <td>-0.124244</td>\n",
       "    </tr>\n",
       "    <tr>\n",
       "      <th>2</th>\n",
       "      <td>2</td>\n",
       "      <td>Partner_No</td>\n",
       "      <td>-0.111500</td>\n",
       "    </tr>\n",
       "    <tr>\n",
       "      <th>28</th>\n",
       "      <td>28</td>\n",
       "      <td>MonthlyCharges</td>\n",
       "      <td>-0.060506</td>\n",
       "    </tr>\n",
       "    <tr>\n",
       "      <th>4</th>\n",
       "      <td>5</td>\n",
       "      <td>PhoneService_Yes</td>\n",
       "      <td>-0.050326</td>\n",
       "    </tr>\n",
       "    <tr>\n",
       "      <th>0</th>\n",
       "      <td>0</td>\n",
       "      <td>gender_Male</td>\n",
       "      <td>-0.006317</td>\n",
       "    </tr>\n",
       "    <tr>\n",
       "      <th>29</th>\n",
       "      <td>29</td>\n",
       "      <td>TotalCharges</td>\n",
       "      <td>0.000217</td>\n",
       "    </tr>\n",
       "  </tbody>\n",
       "</table>\n",
       "</div>"
      ],
      "text/plain": [
       "    idx                                     name  coefficient\n",
       "8     9                      InternetService_DSL     1.771335\n",
       "19   20                       StreamingMovies_No     1.048152\n",
       "21   22                  Contract_Month-to-month     1.041582\n",
       "23   24                     PaperlessBilling_Yes    -0.771315\n",
       "15   16                           TechSupport_No     0.734774\n",
       "10   11                       OnlineSecurity_Yes     0.677007\n",
       "17   18                           StreamingTV_No     0.665264\n",
       "22   23                        Contract_Two year     0.664100\n",
       "5     6                         MultipleLines_No     0.662539\n",
       "13   14                      DeviceProtection_No     0.657063\n",
       "16   17                          TechSupport_Yes     0.637224\n",
       "9    10                        OnlineSecurity_No    -0.623882\n",
       "11   12                          OnlineBackup_No     0.619590\n",
       "12   13                         OnlineBackup_Yes     0.593754\n",
       "14   15                     DeviceProtection_Yes     0.525867\n",
       "25   26               PaymentMethod_Mailed check     0.446030\n",
       "24   25           PaymentMethod_Electronic check     0.369119\n",
       "7     8              InternetService_Fiber optic     0.360253\n",
       "1     1                          SeniorCitizen_0    -0.223915\n",
       "20   21                      StreamingMovies_Yes     0.197669\n",
       "18   19                          StreamingTV_Yes     0.194690\n",
       "27    4                                   tenure     0.189774\n",
       "26   27  PaymentMethod_Bank transfer (automatic)     0.149793\n",
       "3     3                            Dependents_No     0.148383\n",
       "6     7                        MultipleLines_Yes    -0.124244\n",
       "2     2                               Partner_No    -0.111500\n",
       "28   28                           MonthlyCharges    -0.060506\n",
       "4     5                         PhoneService_Yes    -0.050326\n",
       "0     0                              gender_Male    -0.006317\n",
       "29   29                             TotalCharges     0.000217"
      ]
     },
     "execution_count": 16,
     "metadata": {},
     "output_type": "execute_result"
    }
   ],
   "source": [
    "array = np.array(lrModel.coefficients)\n",
    "coefficients = pd.DataFrame(array, columns = ['coefficient'])\n",
    "\n",
    "merged = colsDF.merge(coefficients, left_index = True, right_index = True)\n",
    "\n",
    "merged.reindex(merged['coefficient'].abs().sort_values(ascending=False).index)\n"
   ]
  },
  {
   "cell_type": "markdown",
   "metadata": {},
   "source": [
    "Plot a bar chart:"
   ]
  },
  {
   "cell_type": "code",
   "execution_count": 17,
   "metadata": {},
   "outputs": [
    {
     "data": {
      "image/png": "[encoded data removed]",
      "text/plain": [
       "<Figure size 640x480 with 1 Axes>"
      ]
     },
     "metadata": {},
     "output_type": "display_data"
    }
   ],
   "source": [
    "plt.bar(merged['name'], merged['coefficient'])\n",
    "plt.xticks(rotation='vertical')\n",
    "plt.show()"
   ]
  },
  {
   "cell_type": "markdown",
   "metadata": {},
   "source": [
    "From our fitted model, `lrModel`, extract the summary and call it `summary`:"
   ]
  },
  {
   "cell_type": "code",
   "execution_count": 18,
   "metadata": {},
   "outputs": [],
   "source": [
    "summary = lrModel.summary\n"
   ]
  },
  {
   "cell_type": "markdown",
   "metadata": {},
   "source": [
    "From `summary` extract `areaUnderROC`. Note that this AUC is from the `train` dataset and we should pay more attention to the AUC coming from the `test` set:"
   ]
  },
  {
   "cell_type": "code",
   "execution_count": 19,
   "metadata": {},
   "outputs": [
    {
     "name": "stderr",
     "output_type": "stream",
     "text": [
      "                                                                                \r"
     ]
    },
    {
     "data": {
      "text/plain": [
       "0.8460341850268617"
      ]
     },
     "execution_count": 19,
     "metadata": {},
     "output_type": "execute_result"
    }
   ],
   "source": [
    "summary.areaUnderROC\n"
   ]
  },
  {
   "cell_type": "markdown",
   "metadata": {},
   "source": [
    "From `summary` extract `roc` and convert it to a pandas DataFrame. Call it `roc`:"
   ]
  },
  {
   "cell_type": "code",
   "execution_count": 20,
   "metadata": {},
   "outputs": [
    {
     "data": {
      "text/html": [
       "<div>\n",
       "<style scoped>\n",
       "    .dataframe tbody tr th:only-of-type {\n",
       "        vertical-align: middle;\n",
       "    }\n",
       "\n",
       "    .dataframe tbody tr th {\n",
       "        vertical-align: top;\n",
       "    }\n",
       "\n",
       "    .dataframe thead th {\n",
       "        text-align: right;\n",
       "    }\n",
       "</style>\n",
       "<table border=\"1\" class=\"dataframe\">\n",
       "  <thead>\n",
       "    <tr style=\"text-align: right;\">\n",
       "      <th></th>\n",
       "      <th>FPR</th>\n",
       "      <th>TPR</th>\n",
       "    </tr>\n",
       "  </thead>\n",
       "  <tbody>\n",
       "    <tr>\n",
       "      <th>0</th>\n",
       "      <td>0.000000</td>\n",
       "      <td>0.000000</td>\n",
       "    </tr>\n",
       "    <tr>\n",
       "      <th>1</th>\n",
       "      <td>0.000000</td>\n",
       "      <td>0.002990</td>\n",
       "    </tr>\n",
       "    <tr>\n",
       "      <th>2</th>\n",
       "      <td>0.000000</td>\n",
       "      <td>0.005979</td>\n",
       "    </tr>\n",
       "    <tr>\n",
       "      <th>3</th>\n",
       "      <td>0.000278</td>\n",
       "      <td>0.008221</td>\n",
       "    </tr>\n",
       "    <tr>\n",
       "      <th>4</th>\n",
       "      <td>0.000835</td>\n",
       "      <td>0.009716</td>\n",
       "    </tr>\n",
       "    <tr>\n",
       "      <th>...</th>\n",
       "      <td>...</td>\n",
       "      <td>...</td>\n",
       "    </tr>\n",
       "    <tr>\n",
       "      <th>1224</th>\n",
       "      <td>0.996939</td>\n",
       "      <td>1.000000</td>\n",
       "    </tr>\n",
       "    <tr>\n",
       "      <th>1225</th>\n",
       "      <td>0.998052</td>\n",
       "      <td>1.000000</td>\n",
       "    </tr>\n",
       "    <tr>\n",
       "      <th>1226</th>\n",
       "      <td>0.999165</td>\n",
       "      <td>1.000000</td>\n",
       "    </tr>\n",
       "    <tr>\n",
       "      <th>1227</th>\n",
       "      <td>1.000000</td>\n",
       "      <td>1.000000</td>\n",
       "    </tr>\n",
       "    <tr>\n",
       "      <th>1228</th>\n",
       "      <td>1.000000</td>\n",
       "      <td>1.000000</td>\n",
       "    </tr>\n",
       "  </tbody>\n",
       "</table>\n",
       "<p>1229 rows × 2 columns</p>\n",
       "</div>"
      ],
      "text/plain": [
       "           FPR       TPR\n",
       "0     0.000000  0.000000\n",
       "1     0.000000  0.002990\n",
       "2     0.000000  0.005979\n",
       "3     0.000278  0.008221\n",
       "4     0.000835  0.009716\n",
       "...        ...       ...\n",
       "1224  0.996939  1.000000\n",
       "1225  0.998052  1.000000\n",
       "1226  0.999165  1.000000\n",
       "1227  1.000000  1.000000\n",
       "1228  1.000000  1.000000\n",
       "\n",
       "[1229 rows x 2 columns]"
      ]
     },
     "execution_count": 20,
     "metadata": {},
     "output_type": "execute_result"
    }
   ],
   "source": [
    "roc = summary.roc.toPandas()\n",
    "roc"
   ]
  },
  {
   "cell_type": "markdown",
   "metadata": {},
   "source": [
    "Visualize the `roc` DataFrame:"
   ]
  },
  {
   "cell_type": "code",
   "execution_count": 21,
   "metadata": {},
   "outputs": [],
   "source": [
    "%matplotlib inline\n",
    "import matplotlib.pyplot as plt\n"
   ]
  },
  {
   "cell_type": "code",
   "execution_count": 22,
   "metadata": {},
   "outputs": [
    {
     "data": {
      "text/plain": [
       "Text(0, 0.5, 'TPR')"
      ]
     },
     "execution_count": 22,
     "metadata": {},
     "output_type": "execute_result"
    },
    {
     "data": {
      "image/png": "[encoded data removed]",
      "text/plain": [
       "<Figure size 640x480 with 1 Axes>"
      ]
     },
     "metadata": {},
     "output_type": "display_data"
    }
   ],
   "source": [
    "\n",
    "roc.plot(x='FPR', y='TPR', xlim = [-0.1, 1], style='--o', legend=False)\n",
    "plt.title('ROC Cruve')\n",
    "plt.ylabel('TPR')"
   ]
  },
  {
   "cell_type": "markdown",
   "metadata": {},
   "source": [
    "Do the same with `pr` from `summary`:"
   ]
  },
  {
   "cell_type": "code",
   "execution_count": 23,
   "metadata": {},
   "outputs": [
    {
     "data": {
      "text/plain": [
       "Text(0, 0.5, 'precision')"
      ]
     },
     "execution_count": 23,
     "metadata": {},
     "output_type": "execute_result"
    },
    {
     "data": {
      "image/png": "[encoded data removed]",
      "text/plain": [
       "<Figure size 640x480 with 1 Axes>"
      ]
     },
     "metadata": {},
     "output_type": "display_data"
    }
   ],
   "source": [
    "pr = summary.pr.toPandas()\n",
    "\n",
    "pr.plot(x='recall', y='precision', style='--o', legend=False)\n",
    "plt.title('Precision-Recall Cruve')\n",
    "plt.ylabel('precision')"
   ]
  },
  {
   "cell_type": "markdown",
   "metadata": {},
   "source": [
    "Our baseline model looks promising. Let's do some predictions on the `test` set.\n",
    "\n",
    "Pass the `test` set through our trained model. Called the resulting DataFrame `fittedTest`:"
   ]
  },
  {
   "cell_type": "code",
   "execution_count": 24,
   "metadata": {},
   "outputs": [],
   "source": [
    "fittedTest = lrModel.transform(test)"
   ]
  },
  {
   "cell_type": "markdown",
   "metadata": {},
   "source": [
    "Print the first few rows of this DataFrame. Only show the following columns: \"label\", \"prediction\", \"rawPrediction\""
   ]
  },
  {
   "cell_type": "code",
   "execution_count": 25,
   "metadata": {},
   "outputs": [
    {
     "name": "stdout",
     "output_type": "stream",
     "text": [
      "+-----+----------+--------------------+\n",
      "|label|prediction|       rawPrediction|\n",
      "+-----+----------+--------------------+\n",
      "|  1.0|       1.0|[-0.2030213040636...|\n",
      "|  1.0|       1.0|[-0.8990270886877...|\n",
      "|  1.0|       1.0|[-0.8357244286290...|\n",
      "|  0.0|       0.0|[0.34155384012111...|\n",
      "+-----+----------+--------------------+\n",
      "only showing top 4 rows\n",
      "\n"
     ]
    }
   ],
   "source": [
    "fittedTest.select(['label', 'prediction', 'rawPrediction']).show(4)\n"
   ]
  },
  {
   "cell_type": "markdown",
   "metadata": {},
   "source": [
    "Make an evaluator from `BinaryClassificationEvaluator` function that calculates AUC. We will use this function to measure our model's performance on the `test` set. Call this evaluator `aucEvaluator`. \n",
    "\n",
    "Note that this function can be found under the `pyspark.ml.evaluation` module."
   ]
  },
  {
   "cell_type": "code",
   "execution_count": 26,
   "metadata": {},
   "outputs": [],
   "source": [
    "from pyspark.ml.evaluation import BinaryClassificationEvaluator\n",
    "aucEvaluator = BinaryClassificationEvaluator(metricName = 'areaUnderROC')\n"
   ]
  },
  {
   "cell_type": "markdown",
   "metadata": {},
   "source": [
    "Using our `aucEvaluator` find out the AUC on the `test` set:"
   ]
  },
  {
   "cell_type": "code",
   "execution_count": 27,
   "metadata": {},
   "outputs": [
    {
     "data": {
      "text/plain": [
       "0.8510184986531245"
      ]
     },
     "execution_count": 27,
     "metadata": {},
     "output_type": "execute_result"
    }
   ],
   "source": [
    "aucEvaluator.evaluate(fittedTest)"
   ]
  },
  {
   "cell_type": "markdown",
   "metadata": {},
   "source": [
    "Are your test and train AUC's within the same range?\n",
    "\n",
    "Answer: Yes, my test and train AUC's are within the same range. In fact, the AUC for the test data was actually slightly higher!\n",
    "\n",
    "### (PSTAT 234) Adding regularization\n",
    "\n",
    "Add elastic net regularization following the hyperparameter gridsearch example in the textbook. Instead of `TrainValidationSplit`, use [`CrossValidator`](https://spark.apache.org/docs/latest/api/python/reference/api/pyspark.ml.tuning.CrossValidator.html?highlight=crossvalidator). Tune two parameters `regParam` and `elasticNetParam`.\n",
    "\n",
    "Choose two grids (one for each parameters). Create a pipeline to tune your model with 5-fold cross-validation."
   ]
  },
  {
   "cell_type": "code",
   "execution_count": null,
   "metadata": {},
   "outputs": [],
   "source": []
  }
 ],
 "metadata": {
  "kernelspec": {
   "display_name": "PySpark",
   "language": "python",
   "name": "pyspark"
  },
  "language_info": {
   "codemirror_mode": {
    "name": "ipython",
    "version": 3
   },
   "file_extension": ".py",
   "mimetype": "text/x-python",
   "name": "python",
   "nbconvert_exporter": "python",
   "pygments_lexer": "ipython3",
   "version": "3.8.15"
  }
 },
 "nbformat": 4,
 "nbformat_minor": 4
}